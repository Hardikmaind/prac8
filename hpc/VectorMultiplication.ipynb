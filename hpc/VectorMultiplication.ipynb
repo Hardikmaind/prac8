{
 "cells": [
  {
   "cell_type": "code",
   "execution_count": 10,
   "metadata": {
    "colab": {
     "base_uri": "https://localhost:8080/"
    },
    "id": "7UwUwyULXY-A",
    "outputId": "f055d7c6-aa4b-48b5-995c-61675f2a0e94"
   },
   "outputs": [
    {
     "name": "stdout",
     "output_type": "stream",
     "text": [
      "Requirement already satisfied: nvcc4jupyter in /usr/local/lib/python3.10/dist-packages (1.2.1)\n"
     ]
    }
   ],
   "source": [
    "!pip install nvcc4jupyter\n"
   ]
  },
  {
   "cell_type": "code",
   "execution_count": 11,
   "metadata": {
    "colab": {
     "base_uri": "https://localhost:8080/"
    },
    "id": "sJrKg0KjdXL3",
    "outputId": "79bfcbd0-4a48-4b0c-ccaf-69a0e6db3ac9"
   },
   "outputs": [
    {
     "name": "stdout",
     "output_type": "stream",
     "text": [
      "Detected platform \"Colab\". Running its setup...\n",
      "Source files will be saved in \"/tmp/tmpd3anfzi0\".\n"
     ]
    }
   ],
   "source": [
    "%load_ext nvcc4jupyter"
   ]
  },
  {
   "cell_type": "code",
   "execution_count": 14,
   "metadata": {
    "colab": {
     "base_uri": "https://localhost:8080/"
    },
    "id": "myZlYpJ3bZL3",
    "outputId": "a3c4800e-9209-4690-b778-955088762a2d"
   },
   "outputs": [
    {
     "name": "stdout",
     "output_type": "stream",
     "text": [
      "Vector A: 3 6 7 5 \n",
      "Vector B: 3 5 6 2 \n",
      "Addition: 6 11 13 7 \n",
      "3 + 3 = 6\n",
      "6 + 5 = 11\n",
      "7 + 6 = 13\n",
      "5 + 2 = 7\n",
      "\n"
     ]
    }
   ],
   "source": [
    "\n",
    "%%cuda\n",
    "#include <iostream>\n",
    "#include <cuda_runtime.h>\n",
    "\n",
    "using namespace std;\n",
    "\n",
    "__global__\n",
    "void add(int* A, int* B, int* C, int size) {\n",
    "    int tid = blockIdx.x * blockDim.x + threadIdx.x;\n",
    "\n",
    "    if (tid < size) {\n",
    "        C[tid] = A[tid] + B[tid];\n",
    "    }\n",
    "}\n",
    "\n",
    "void initialize(int* vector, int size, int values[]) {\n",
    "    for (int i = 0; i < size; i++) {\n",
    "        vector[i] = values[i];\n",
    "    }\n",
    "}\n",
    "\n",
    "void print(int* vector, int size) {\n",
    "    for (int i = 0; i < size; i++) {\n",
    "        cout << vector[i] << \" \";\n",
    "    }\n",
    "    cout << endl;\n",
    "}\n",
    "\n",
    "int main() {\n",
    "    int N = 4;\n",
    "    int* A, * B, * C;\n",
    "\n",
    "    int vectorSize = N;\n",
    "    size_t vectorBytes = vectorSize * sizeof(int);\n",
    "\n",
    "    A = new int[vectorSize];\n",
    "    B = new int[vectorSize];\n",
    "    C = new int[vectorSize];\n",
    "\n",
    "    int valuesA[] = {3, 6, 7, 5};\n",
    "    int valuesB[] = {3, 5, 6, 2};\n",
    "\n",
    "    initialize(A, vectorSize, valuesA);\n",
    "    initialize(B, vectorSize, valuesB);\n",
    "\n",
    "    cout << \"Vector A: \";\n",
    "    print(A, N);\n",
    "    cout << \"Vector B: \";\n",
    "    print(B, N);\n",
    "\n",
    "    int* X, * Y, * Z;\n",
    "    cudaMalloc(&X, vectorBytes);\n",
    "    cudaMalloc(&Y, vectorBytes);\n",
    "    cudaMalloc(&Z, vectorBytes);\n",
    "\n",
    "    cudaMemcpy(X, A, vectorBytes, cudaMemcpyHostToDevice);\n",
    "    cudaMemcpy(Y, B, vectorBytes, cudaMemcpyHostToDevice);\n",
    "\n",
    "    int threadsPerBlock = 256;\n",
    "    int blocksPerGrid = (N + threadsPerBlock - 1) / threadsPerBlock;\n",
    "\n",
    "    add<<<blocksPerGrid, threadsPerBlock>>>(X, Y, Z, N);\n",
    "\n",
    "    cudaError_t cudaError = cudaGetLastError();\n",
    "    if (cudaError != cudaSuccess) {\n",
    "        cout << \"CUDA Error: \" << cudaGetErrorString(cudaError) << endl;\n",
    "        return 1;\n",
    "    }\n",
    "\n",
    "    cudaMemcpy(C, Z, vectorBytes, cudaMemcpyDeviceToHost);\n",
    "\n",
    "    cout << \"Addition: \";\n",
    "    print(C, N);\n",
    "\n",
    "    for (int i = 0; i < 4; i++) {\n",
    "        printf(\"%d + %d = %d\\n\", A[i], B[i], C[i]);\n",
    "    }\n",
    "\n",
    "    delete[] A;\n",
    "    delete[] B;\n",
    "    delete[] C;\n",
    "\n",
    "    cudaFree(X);\n",
    "    cudaFree(Y);\n",
    "    cudaFree(Z);\n",
    "\n",
    "    return 0;\n",
    "}\n"
   ]
  }
 ],
 "metadata": {
  "accelerator": "GPU",
  "colab": {
   "gpuType": "T4",
   "provenance": []
  },
  "kernelspec": {
   "display_name": "Python 3 (ipykernel)",
   "language": "python",
   "name": "python3"
  },
  "language_info": {
   "codemirror_mode": {
    "name": "ipython",
    "version": 3
   },
   "file_extension": ".py",
   "mimetype": "text/x-python",
   "name": "python",
   "nbconvert_exporter": "python",
   "pygments_lexer": "ipython3",
   "version": "3.12.1"
  }
 },
 "nbformat": 4,
 "nbformat_minor": 4
}
